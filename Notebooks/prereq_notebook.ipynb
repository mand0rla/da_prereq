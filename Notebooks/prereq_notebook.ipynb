{
 "cells": [
  {
   "cell_type": "code",
   "execution_count": 6,
   "id": "9a20dcbe",
   "metadata": {},
   "outputs": [
    {
     "name": "stdout",
     "output_type": "stream",
     "text": [
      "Hi, bonjour, and bienvenue!\n"
     ]
    }
   ],
   "source": [
    "print (\"Hi, bonjour, and bienvenue!\")"
   ]
  },
  {
   "cell_type": "markdown",
   "id": "78756b8f",
   "metadata": {},
   "source": [
    "# Hey y'all!\n",
    "I'm **Megan Scott**\n",
    "\n",
    "I'm excited to learn more about **Data Analysis** and I want to work hard to make everyone proud, my mentors, my family, and myself. I like: \n",
    "* traveling around the world\n",
    "* speaking French\n",
    "* dancing: salsa, bachata, swing \n",
    "\n",
    "I want to learn more about **data visualization** and how to represent data in a visually pleasing and compelling way. Thanks for taking the time to read about me!"
   ]
  }
 ],
 "metadata": {
  "kernelspec": {
   "display_name": "Python 3",
   "language": "python",
   "name": "python3"
  },
  "language_info": {
   "codemirror_mode": {
    "name": "ipython",
    "version": 3
   },
   "file_extension": ".py",
   "mimetype": "text/x-python",
   "name": "python",
   "nbconvert_exporter": "python",
   "pygments_lexer": "ipython3",
   "version": "3.13.5"
  }
 },
 "nbformat": 4,
 "nbformat_minor": 5
}
